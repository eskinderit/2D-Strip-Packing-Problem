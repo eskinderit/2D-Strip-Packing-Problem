{
 "cells": [
  {
   "cell_type": "code",
   "execution_count": 1,
   "id": "4da70ab4",
   "metadata": {},
   "outputs": [
    {
     "name": "stdout",
     "output_type": "stream",
     "text": [
      "Requirement already satisfied: z3-solver in c:\\programdata\\anaconda3\\lib\\site-packages (4.8.15.0)\n",
      "Note: you may need to restart the kernel to use updated packages.\n"
     ]
    },
    {
     "name": "stderr",
     "output_type": "stream",
     "text": [
      "WARNING: Ignoring invalid distribution -hromedriver-binary-auto (c:\\programdata\\anaconda3\\lib\\site-packages)\n",
      "WARNING: Ignoring invalid distribution - (c:\\programdata\\anaconda3\\lib\\site-packages)\n",
      "WARNING: Ignoring invalid distribution -hromedriver-binary-auto (c:\\programdata\\anaconda3\\lib\\site-packages)\n",
      "WARNING: Ignoring invalid distribution - (c:\\programdata\\anaconda3\\lib\\site-packages)\n",
      "WARNING: Ignoring invalid distribution -hromedriver-binary-auto (c:\\programdata\\anaconda3\\lib\\site-packages)\n",
      "WARNING: Ignoring invalid distribution - (c:\\programdata\\anaconda3\\lib\\site-packages)\n",
      "WARNING: Ignoring invalid distribution -hromedriver-binary-auto (c:\\programdata\\anaconda3\\lib\\site-packages)\n",
      "WARNING: Ignoring invalid distribution - (c:\\programdata\\anaconda3\\lib\\site-packages)\n",
      "WARNING: Ignoring invalid distribution -hromedriver-binary-auto (c:\\programdata\\anaconda3\\lib\\site-packages)\n",
      "WARNING: Ignoring invalid distribution - (c:\\programdata\\anaconda3\\lib\\site-packages)\n",
      "WARNING: Ignoring invalid distribution -hromedriver-binary-auto (c:\\programdata\\anaconda3\\lib\\site-packages)\n",
      "WARNING: Ignoring invalid distribution - (c:\\programdata\\anaconda3\\lib\\site-packages)\n"
     ]
    }
   ],
   "source": [
    "pip install z3-solver"
   ]
  },
  {
   "cell_type": "code",
   "execution_count": 2,
   "id": "e860eda3",
   "metadata": {},
   "outputs": [],
   "source": [
    "from z3 import *\n",
    "import math\n",
    "import time\n",
    "import itertools\n",
    "import io\n",
    "from datetime import datetime\n",
    "import numpy as np\n"
   ]
  },
  {
   "cell_type": "code",
   "execution_count": 3,
   "id": "a60883b7",
   "metadata": {},
   "outputs": [],
   "source": [
    "import sys \n",
    "sys.path.append('../../')\n",
    "from utils.utils import * "
   ]
  },
  {
   "cell_type": "code",
   "execution_count": 4,
   "id": "a4157932",
   "metadata": {},
   "outputs": [
    {
     "data": {
      "text/plain": [
       "'\\n\\nfor i in range(1,5):\\n    file_name = \"./../instances/ins-\" + str(i) + \".txt\"\\n    file = open(file_name)\\n    max_width = int(file.readline())\\n    number_rectangles = int(file.readline())\\n\\n    width = []\\n    height = []\\n\\n    for line in file:\\n        width_height = line.split()\\n        width_height = [int(x) for x in width_height]\\n        width.append(width_height[0])\\n        height.append(width_height[1])\\n\\n    dimension_rectangle = []\\n    for j, k in zip(width, height):\\n        dimension_rectangle.append([j, k])\\n\\n    area = sum([b[0] * b[1] for b in dimension_rectangle])\\n    lowerbound = area / max_width\\n    circuits_w,circuits_h=width,height\\n    \\n\\n    start = time.time()\\n    s, px, py,z_time = pack_rectangles(max_width,number_rectangles,width,height,False, False)\\n    end = time.time()\\n    \\n    final_time = end - start\\n\\n    if s != -1:\\n        m = s.model()\\n        file_out = \"./../out_test/out-\" + str(i) + \".txt\"\\n        file_out_time_1 = \"./../time_test/time-\" + str(i) + \".txt\"\\n\\n        with open(file_out, \\'w\\') as file:\\n\\n            result = sorted([(d, m[d]) for d in m], key=lambda x: str(x[0]))\\n            file.write(str(max_width) + \\' \\' + str(lowerbound) + \"\\n\")\\n            file.write(str(number_rectangles)+\\'\\n\\')\\n            for k in range(1,number_rectangles+1):\\n                file.write(str(width[k-1]) + \\' \\' + str(height[k-1]) + \\' \\' + str(m.evaluate(px[k-1])) + \\' \\' + str(m.evaluate(py[k-1])) + \"\\n\")\\n\\n\\n        with open(file_out_time_1, \\'w\\') as file:\\n            file.write(str(final_time))\\n             \\n    else:\\n        \\n        file_out_time_1 = \"./../time_test_UN/time-\" + str(i) + \".txt\"\\n        \\n        with open(file_out_time_1, \\'w\\') as file:\\n            \\n            file.write(str(final_time))\\n'"
      ]
     },
     "execution_count": 4,
     "metadata": {},
     "output_type": "execute_result"
    }
   ],
   "source": [
    "def pack_rectangles(timeout, max_width, lowerbound, H_UB, number_rectangles, width,height,rotation,symmetry, verbose = False):\n",
    "\n",
    "    #start_time = time.time()\n",
    "   \n",
    "    s = Optimize()\n",
    "    s.set(\"timeout\", timeout * 1000)\n",
    "    \n",
    "    \n",
    "    circuits_x = [Int(f\"x_{i}\") for i in range(number_rectangles)]\n",
    "    circuits_y = [Int(f\"y_{i}\") for i in range(number_rectangles)]\n",
    "    circuits_w,circuits_h=width,height\n",
    "    \n",
    "    #computing upperbound\n",
    "    xx=circuits_x.copy()\n",
    "    yy=circuits_y.copy()  \n",
    "    W =max_width\n",
    "    upperbound = H_UB\n",
    "    \n",
    "    Rectangle_height = Int('Rectangle_height')\n",
    "    s.add(Rectangle_height <= upperbound)\n",
    "    s.add(Rectangle_height >= lowerbound)\n",
    "    \n",
    "\n",
    "   \n",
    "    Circuits_w = [Int(f\"w_{i}\") for i in range(number_rectangles)]\n",
    "    Circuits_h = [Int(f\"h_{i}\") for i in range(number_rectangles)]\n",
    "    rotation = [Bool(f\"rotation_{i}\") for i in range(number_rectangles)]\n",
    "\n",
    "    if rotation:\n",
    "        s.add([Or(And(Not(rotation[i]), Circuits_w[i] == width[i], Circuits_h[i] == height[i]), And(rotation[i],Circuits_w[i] == height[i], Circuits_h[i] == width[i])) for i in range(number_rectangles)])\n",
    "    else:\n",
    "        s.add([And(Circuits_w[i] == width[i], Circuits_h[i] == height[i]) for i in range(number_rectangles)])     \n",
    "               \n",
    "        \n",
    "    H = lowerbound    \n",
    "           \n",
    "    non_overlap = [Or( \n",
    "                    circuits_x[i] + circuits_w[i] <= circuits_x[j],\n",
    "                    circuits_x[i] >= circuits_x[j] + circuits_w[j],\n",
    "                    circuits_y[i] + circuits_h[i] <= circuits_y[j],\n",
    "                    circuits_y[i] >= circuits_y[j] + circuits_h[j]\n",
    "                    ) for i in range(number_rectangles-1) for j in range(i+1, number_rectangles)]\n",
    "    \n",
    "    in_limits = [And(circuits_x[i] + circuits_w[i] <= max_width,\n",
    "                circuits_y[i] + circuits_h[i] <= Rectangle_height, \n",
    "                circuits_x[i] >= 0, \n",
    "                circuits_y[i] >= 0) for i in range(number_rectangles)]\n",
    "    \n",
    "    \n",
    "    \n",
    "    if symmetry:\n",
    "        # symmetry breaking constraints\n",
    "        for i in range(number_rectangles):\n",
    "            for j in range(number_rectangles):\n",
    "                if i != j:\n",
    "\n",
    "\n",
    "                    #symmetry breaking constraint         \n",
    "                    s.add(Implies(circuits_w[i] + circuits_w[j] > W,And(circuits_x[i]+circuits_w[i]>circuits_x[j],circuits_x[j]+circuits_w[j]>circuits_x[i])))\n",
    "                    s.add(Implies(circuits_h[i] + circuits_h[j] > H,And(circuits_y[i]+circuits_h[i]>circuits_y[j],circuits_y[j]+circuits_h[j]>circuits_y[i])))\n",
    "    \n",
    "    \n",
    "    s.add(non_overlap + in_limits)\n",
    "    \n",
    "    s.minimize(Rectangle_height)\n",
    "\n",
    "    \n",
    "\n",
    "    if not(s.check() == sat):\n",
    "        if verbose:\n",
    "            print('UNSAT')\n",
    "        return True,-1,-1,301\n",
    "\n",
    "    \n",
    "    if verbose:\n",
    "        print(f'Solved in time:{s.statistics().time} s')\n",
    "    \n",
    "    model = s.model()\n",
    "    \n",
    "    x = [model.__getitem__(i).as_long() for i in circuits_x]\n",
    "    y = [model.__getitem__(i).as_long() for i in circuits_y]\n",
    "    time = s.statistics().time\n",
    "    rot = [model.__getitem__(i) for i in rotation] #FIXME in bool\n",
    "    \n",
    "    return False, x, y, time, rot \n",
    "\"\"\"\n",
    "\n",
    "for i in range(1,5):\n",
    "    file_name = \"./../instances/ins-\" + str(i) + \".txt\"\n",
    "    file = open(file_name)\n",
    "    max_width = int(file.readline())\n",
    "    number_rectangles = int(file.readline())\n",
    "\n",
    "    width = []\n",
    "    height = []\n",
    "\n",
    "    for line in file:\n",
    "        width_height = line.split()\n",
    "        width_height = [int(x) for x in width_height]\n",
    "        width.append(width_height[0])\n",
    "        height.append(width_height[1])\n",
    "\n",
    "    dimension_rectangle = []\n",
    "    for j, k in zip(width, height):\n",
    "        dimension_rectangle.append([j, k])\n",
    "\n",
    "    area = sum([b[0] * b[1] for b in dimension_rectangle])\n",
    "    lowerbound = area / max_width\n",
    "    circuits_w,circuits_h=width,height\n",
    "    \n",
    "\n",
    "    start = time.time()\n",
    "    s, px, py,z_time = pack_rectangles(max_width,number_rectangles,width,height,False, False)\n",
    "    end = time.time()\n",
    "    \n",
    "    final_time = end - start\n",
    "\n",
    "    if s != -1:\n",
    "        m = s.model()\n",
    "        file_out = \"./../out_test/out-\" + str(i) + \".txt\"\n",
    "        file_out_time_1 = \"./../time_test/time-\" + str(i) + \".txt\"\n",
    "\n",
    "        with open(file_out, 'w') as file:\n",
    "\n",
    "            result = sorted([(d, m[d]) for d in m], key=lambda x: str(x[0]))\n",
    "            file.write(str(max_width) + ' ' + str(lowerbound) + \"\\n\")\n",
    "            file.write(str(number_rectangles)+'\\n')\n",
    "            for k in range(1,number_rectangles+1):\n",
    "                file.write(str(width[k-1]) + ' ' + str(height[k-1]) + ' ' + str(m.evaluate(px[k-1])) + ' ' + str(m.evaluate(py[k-1])) + \"\\n\")\n",
    "\n",
    "\n",
    "        with open(file_out_time_1, 'w') as file:\n",
    "            file.write(str(final_time))\n",
    "             \n",
    "    else:\n",
    "        \n",
    "        file_out_time_1 = \"./../time_test_UN/time-\" + str(i) + \".txt\"\n",
    "        \n",
    "        with open(file_out_time_1, 'w') as file:\n",
    "            \n",
    "            file.write(str(final_time))\n",
    "\"\"\"    "
   ]
  },
  {
   "cell_type": "code",
   "execution_count": 5,
   "id": "2b023969",
   "metadata": {},
   "outputs": [
    {
     "data": {
      "text/plain": [
       "'\\nfrom os import listdir\\nfrom os.path import isfile, join\\nonlyfiles_1 = [f for f in listdir(r\"./../time_1_all/\") if isfile(join(\"./../time_1_all/\", f))]\\nonlyfiles_1_r = [f for f in listdir(r\"./../time_1_r_all/\") if isfile(join(\"./../time_1_r_all/\", f))]\\n\\n\\'\\'\\'\\nonlyfiles_2 = [f for f in listdir(\"./../time_2_all/\") if isfile(join(\"./../time_2_all/\", f))]\\nonlyfiles_2_r = [f for f in listdir(\"./../time_2_r_all/\") if isfile(join(\"./../time_2_r_all/\", f))]\\n\\'\\'\\'\\n\\ntimes_1_all=[]\\ntimes_1_r_all=[]\\ntimes_2_all=[]\\ntimes_2_r_all=[]\\n\\nfor i in range(1,41):\\n    with open(r\"./../time_1_all/time-\" + str(i)+\".txt\") as f:\\n        lines = f.readlines()\\n        times_1_all.append(float(lines[0]))\\n\\n\\nfor i in range(1,41):\\n    with open(r\"./../time_1_r_all/time-\" + str(i)+\".txt\") as f:\\n        lines = f.readlines()\\n        times_1_r_all.append(float(lines[0]))\\n\\n\\n\\nfor i in range(1,41):\\n    with open(r\"./../time_2_all/time-\" + str(i)+\".txt\") as f:\\n        lines = f.readlines()\\n        times_2_all.append(float(lines[0]))\\n        \\n\\nfor i in range(1,41):\\n    with open(r\"./../time_2_r_all/time-\" + str(i)+\".txt\") as f:\\n        lines = f.readlines()\\n        times_2_r_all.append(float(lines[0]))\\n\\n\\n'"
      ]
     },
     "execution_count": 5,
     "metadata": {},
     "output_type": "execute_result"
    }
   ],
   "source": [
    "\"\"\"\n",
    "from os import listdir\n",
    "from os.path import isfile, join\n",
    "onlyfiles_1 = [f for f in listdir(r\"./../time_1_all/\") if isfile(join(\"./../time_1_all/\", f))]\n",
    "onlyfiles_1_r = [f for f in listdir(r\"./../time_1_r_all/\") if isfile(join(\"./../time_1_r_all/\", f))]\n",
    "\n",
    "'''\n",
    "onlyfiles_2 = [f for f in listdir(\"./../time_2_all/\") if isfile(join(\"./../time_2_all/\", f))]\n",
    "onlyfiles_2_r = [f for f in listdir(\"./../time_2_r_all/\") if isfile(join(\"./../time_2_r_all/\", f))]\n",
    "'''\n",
    "\n",
    "times_1_all=[]\n",
    "times_1_r_all=[]\n",
    "times_2_all=[]\n",
    "times_2_r_all=[]\n",
    "\n",
    "for i in range(1,41):\n",
    "    with open(r\"./../time_1_all/time-\" + str(i)+\".txt\") as f:\n",
    "        lines = f.readlines()\n",
    "        times_1_all.append(float(lines[0]))\n",
    "\n",
    "\n",
    "for i in range(1,41):\n",
    "    with open(r\"./../time_1_r_all/time-\" + str(i)+\".txt\") as f:\n",
    "        lines = f.readlines()\n",
    "        times_1_r_all.append(float(lines[0]))\n",
    "\n",
    "\n",
    "\n",
    "for i in range(1,41):\n",
    "    with open(r\"./../time_2_all/time-\" + str(i)+\".txt\") as f:\n",
    "        lines = f.readlines()\n",
    "        times_2_all.append(float(lines[0]))\n",
    "        \n",
    "\n",
    "for i in range(1,41):\n",
    "    with open(r\"./../time_2_r_all/time-\" + str(i)+\".txt\") as f:\n",
    "        lines = f.readlines()\n",
    "        times_2_r_all.append(float(lines[0]))\n",
    "\n",
    "\n",
    "\"\"\""
   ]
  },
  {
   "cell_type": "code",
   "execution_count": 6,
   "id": "39490573",
   "metadata": {},
   "outputs": [
    {
     "data": {
      "text/plain": [
       "'\\nimport matplotlib.pyplot as plt\\nimport numpy as np\\n\\n\\n# make data:\\n\\n#x = [i for i in range(1,len(times)+1)]\\nx=np.arange(len(times_1_all))\\n\\n\\n#N=len(times)\\n\\n# plot\\nfig,ax = plt.subplots()\\n\\nplt.ylabel(\\'Time (s)\\')\\nplt.xlabel(\\'instance files\\')\\n#plt.bar(x, times_1, width=0.7, edgecolor=\"white\", linewidth=0.7)\\n#plt.bar(x, times_1_r, width=0.5, edgecolor=\"red\", linewidth=0.7)\\ncolor_1=[]\\ncolor_1_r=[]\\nfor i,j in zip( times_1_all,times_1_r_all):\\n    if i<=300:\\n        color_1.append(\\'#0000FF\\')\\n    else:\\n        color_1.append(\\'#ADD8E6\\')\\n    if j<300:\\n        color_1_r.append(\\'#FF8C00\\')\\n    else:\\n        color_1_r.append(\\'#FFD580\\')\\n\\nplt.bar(x -0.2 , times_1_all, 0.4, color= color_1 ,label = \\'Basic Time\\')\\nplt.bar(x +0.2, times_1_r_all, 0.4,color= color_1_r , label = \\'Rotated Time\\')\\nplt.yscale(\"log\")\\nax.grid(zorder=0)\\nplt.title(\"VLSI SMT Benchmark\")\\nplt.legend(loc=\\'best\\')\\nplt.savefig(\\'../graphs/basic.png\\')\\nplt.show()\\n'"
      ]
     },
     "execution_count": 6,
     "metadata": {},
     "output_type": "execute_result"
    }
   ],
   "source": [
    "\"\"\"\n",
    "import matplotlib.pyplot as plt\n",
    "import numpy as np\n",
    "\n",
    "\n",
    "# make data:\n",
    "\n",
    "#x = [i for i in range(1,len(times)+1)]\n",
    "x=np.arange(len(times_1_all))\n",
    "\n",
    "\n",
    "#N=len(times)\n",
    "\n",
    "# plot\n",
    "fig,ax = plt.subplots()\n",
    "\n",
    "plt.ylabel('Time (s)')\n",
    "plt.xlabel('instance files')\n",
    "#plt.bar(x, times_1, width=0.7, edgecolor=\"white\", linewidth=0.7)\n",
    "#plt.bar(x, times_1_r, width=0.5, edgecolor=\"red\", linewidth=0.7)\n",
    "color_1=[]\n",
    "color_1_r=[]\n",
    "for i,j in zip( times_1_all,times_1_r_all):\n",
    "    if i<=300:\n",
    "        color_1.append('#0000FF')\n",
    "    else:\n",
    "        color_1.append('#ADD8E6')\n",
    "    if j<300:\n",
    "        color_1_r.append('#FF8C00')\n",
    "    else:\n",
    "        color_1_r.append('#FFD580')\n",
    "\n",
    "plt.bar(x -0.2 , times_1_all, 0.4, color= color_1 ,label = 'Basic Time')\n",
    "plt.bar(x +0.2, times_1_r_all, 0.4,color= color_1_r , label = 'Rotated Time')\n",
    "plt.yscale(\"log\")\n",
    "ax.grid(zorder=0)\n",
    "plt.title(\"VLSI SMT Benchmark\")\n",
    "plt.legend(loc='best')\n",
    "plt.savefig('../graphs/basic.png')\n",
    "plt.show()\n",
    "\"\"\""
   ]
  },
  {
   "cell_type": "code",
   "execution_count": 7,
   "id": "fc26bf8d",
   "metadata": {},
   "outputs": [
    {
     "data": {
      "text/plain": [
       "'\\n\\n# make data:\\n\\n#x = [i for i in range(1,len(times)+1)]\\nx=np.arange(len(times_2_all))\\n\\n\\n\\n# plot\\nfig,ax = plt.subplots()\\n\\nplt.ylabel(\\'Time (s)\\')\\nplt.xlabel(\\'instance files\\')\\n#plt.bar(x, times_1, width=0.7, edgecolor=\"white\", linewidth=0.7)\\n#plt.bar(x, times_1_r, width=0.5, edgecolor=\"red\", linewidth=0.7)\\ncolor_2=[]\\ncolor_2_r=[]\\nfor i,j in zip( times_2_all,times_2_r_all):\\n    if i<=300:\\n        color_2.append(\\'#0000FF\\')\\n    else:\\n        color_2.append(\\'#ADD8E6\\')\\n    if j<=300:\\n        color_2_r.append(\\'#FF8C00\\')\\n    else:\\n        color_2_r.append(\\'#FFD580\\')\\n\\nplt.bar(x -0.2 , times_2_all, 0.4, color= color_2 ,label = \\'SB Time\\')\\nplt.bar(x +0.2, times_2_r_all, 0.4,color= color_2_r , label = \\'SB Rotated Time\\')\\nplt.yscale(\"log\")\\nax.grid(zorder=0)\\nplt.title(\"VLSI SMT Benchmark\")\\nplt.legend(loc=\\'best\\')\\nplt.savefig(\\'../graphs/symmetry.png\\')\\nplt.show()\\n'"
      ]
     },
     "execution_count": 7,
     "metadata": {},
     "output_type": "execute_result"
    }
   ],
   "source": [
    "'''\n",
    "\n",
    "# make data:\n",
    "\n",
    "#x = [i for i in range(1,len(times)+1)]\n",
    "x=np.arange(len(times_2_all))\n",
    "\n",
    "\n",
    "\n",
    "# plot\n",
    "fig,ax = plt.subplots()\n",
    "\n",
    "plt.ylabel('Time (s)')\n",
    "plt.xlabel('instance files')\n",
    "#plt.bar(x, times_1, width=0.7, edgecolor=\"white\", linewidth=0.7)\n",
    "#plt.bar(x, times_1_r, width=0.5, edgecolor=\"red\", linewidth=0.7)\n",
    "color_2=[]\n",
    "color_2_r=[]\n",
    "for i,j in zip( times_2_all,times_2_r_all):\n",
    "    if i<=300:\n",
    "        color_2.append('#0000FF')\n",
    "    else:\n",
    "        color_2.append('#ADD8E6')\n",
    "    if j<=300:\n",
    "        color_2_r.append('#FF8C00')\n",
    "    else:\n",
    "        color_2_r.append('#FFD580')\n",
    "\n",
    "plt.bar(x -0.2 , times_2_all, 0.4, color= color_2 ,label = 'SB Time')\n",
    "plt.bar(x +0.2, times_2_r_all, 0.4,color= color_2_r , label = 'SB Rotated Time')\n",
    "plt.yscale(\"log\")\n",
    "ax.grid(zorder=0)\n",
    "plt.title(\"VLSI SMT Benchmark\")\n",
    "plt.legend(loc='best')\n",
    "plt.savefig('../graphs/symmetry.png')\n",
    "plt.show()\n",
    "'''"
   ]
  },
  {
   "cell_type": "code",
   "execution_count": 8,
   "id": "0b0526e2",
   "metadata": {},
   "outputs": [
    {
     "data": {
      "text/plain": [
       "'\\ncolor_2=[]\\ncolor_2_r=[]\\nfor i,j in zip( times_2_all,times_2_r_all):\\n    if i<=300:\\n        color_2.append(\\'#A020F0\\')\\n    else:\\n        color_2.append(\\'#CF9FFF\\')\\n    if j<=300:\\n        color_2_r.append(\\'#00FF00\\')\\n    else:\\n        color_2_r.append(\\'#90EE90\\')\\nplt.bar(x -0.6 , times_2_all, 0.4, color= color_2 ,label = \\'SB Time\\')\\nplt.bar(x +0.6, times_2_r_all, 0.4,color= color_2_r , label = \\'SB Rotated Time\\')\\nplt.bar(x -0.2 , times_1_all, 0.4, color= color_1 ,label = \\'Basic Time\\')\\nplt.bar(x +0.2, times_1_r_all, 0.4,color= color_1_r , label = \\'Rotated Time\\')\\nplt.yscale(\"log\")\\nplt.legend(loc=\\'best\\')\\nplt.show()\\n'"
      ]
     },
     "execution_count": 8,
     "metadata": {},
     "output_type": "execute_result"
    }
   ],
   "source": [
    "'''\n",
    "color_2=[]\n",
    "color_2_r=[]\n",
    "for i,j in zip( times_2_all,times_2_r_all):\n",
    "    if i<=300:\n",
    "        color_2.append('#A020F0')\n",
    "    else:\n",
    "        color_2.append('#CF9FFF')\n",
    "    if j<=300:\n",
    "        color_2_r.append('#00FF00')\n",
    "    else:\n",
    "        color_2_r.append('#90EE90')\n",
    "plt.bar(x -0.6 , times_2_all, 0.4, color= color_2 ,label = 'SB Time')\n",
    "plt.bar(x +0.6, times_2_r_all, 0.4,color= color_2_r , label = 'SB Rotated Time')\n",
    "plt.bar(x -0.2 , times_1_all, 0.4, color= color_1 ,label = 'Basic Time')\n",
    "plt.bar(x +0.2, times_1_r_all, 0.4,color= color_1_r , label = 'Rotated Time')\n",
    "plt.yscale(\"log\")\n",
    "plt.legend(loc='best')\n",
    "plt.show()\n",
    "'''"
   ]
  },
  {
   "cell_type": "code",
   "execution_count": 9,
   "id": "58c25ae7",
   "metadata": {
    "scrolled": true
   },
   "outputs": [
    {
     "name": "stderr",
     "output_type": "stream",
     "text": [
      "  0%|                                                                                                                                                | 0/5 [00:00<?, ?it/s]"
     ]
    },
    {
     "name": "stdout",
     "output_type": "stream",
     "text": [
      "[None, False, True, None]\n"
     ]
    },
    {
     "data": {
      "image/png": "[encoded data removed]",
      "text/plain": [
       "<Figure size 432x288 with 1 Axes>"
      ]
     },
     "metadata": {
      "needs_background": "light"
     },
     "output_type": "display_data"
    },
    {
     "name": "stdout",
     "output_type": "stream",
     "text": [
      "[None, False, False, None]\n"
     ]
    },
    {
     "data": {
      "image/png": "[encoded data removed]",
      "text/plain": [
       "<Figure size 432x288 with 1 Axes>"
      ]
     },
     "metadata": {
      "needs_background": "light"
     },
     "output_type": "display_data"
    },
    {
     "name": "stdout",
     "output_type": "stream",
     "text": [
      "[None, True, False, None]\n"
     ]
    },
    {
     "data": {
      "image/png": "[encoded data removed]",
      "text/plain": [
       "<Figure size 432x288 with 1 Axes>"
      ]
     },
     "metadata": {
      "needs_background": "light"
     },
     "output_type": "display_data"
    },
    {
     "name": "stdout",
     "output_type": "stream",
     "text": [
      "[None, False, False, None]\n"
     ]
    },
    {
     "data": {
      "image/png": "[encoded data removed]",
      "text/plain": [
       "<Figure size 432x288 with 1 Axes>"
      ]
     },
     "metadata": {
      "needs_background": "light"
     },
     "output_type": "display_data"
    },
    {
     "name": "stderr",
     "output_type": "stream",
     "text": [
      " 20%|███████████████████████████▏                                                                                                            | 1/5 [00:03<00:12,  3.19s/it]"
     ]
    },
    {
     "name": "stdout",
     "output_type": "stream",
     "text": [
      "[False, False, True, True, None]\n"
     ]
    },
    {
     "data": {
      "image/png": "[encoded data removed]",
      "text/plain": [
       "<Figure size 432x288 with 1 Axes>"
      ]
     },
     "metadata": {
      "needs_background": "light"
     },
     "output_type": "display_data"
    },
    {
     "name": "stdout",
     "output_type": "stream",
     "text": [
      "[False, True, False, True, None]\n"
     ]
    },
    {
     "data": {
      "image/png": "[encoded data removed]",
      "text/plain": [
       "<Figure size 432x288 with 1 Axes>"
      ]
     },
     "metadata": {
      "needs_background": "light"
     },
     "output_type": "display_data"
    },
    {
     "name": "stdout",
     "output_type": "stream",
     "text": [
      "[True, False, True, True, None]\n"
     ]
    },
    {
     "data": {
      "image/png": "[encoded data removed]",
      "text/plain": [
       "<Figure size 432x288 with 1 Axes>"
      ]
     },
     "metadata": {
      "needs_background": "light"
     },
     "output_type": "display_data"
    },
    {
     "name": "stdout",
     "output_type": "stream",
     "text": [
      "[False, False, True, False, None]\n"
     ]
    },
    {
     "data": {
      "image/png": "[encoded data removed]",
      "text/plain": [
       "<Figure size 432x288 with 1 Axes>"
      ]
     },
     "metadata": {
      "needs_background": "light"
     },
     "output_type": "display_data"
    },
    {
     "name": "stderr",
     "output_type": "stream",
     "text": [
      " 40%|██████████████████████████████████████████████████████▍                                                                                 | 2/5 [00:06<00:09,  3.11s/it]"
     ]
    },
    {
     "name": "stdout",
     "output_type": "stream",
     "text": [
      "[False, None, True, False, True, None]\n"
     ]
    },
    {
     "data": {
      "image/png": "[encoded data removed]",
      "text/plain": [
       "<Figure size 432x288 with 1 Axes>"
      ]
     },
     "metadata": {
      "needs_background": "light"
     },
     "output_type": "display_data"
    },
    {
     "name": "stdout",
     "output_type": "stream",
     "text": [
      "[False, None, False, False, False, None]\n"
     ]
    },
    {
     "data": {
      "image/png": "[encoded data removed]",
      "text/plain": [
       "<Figure size 432x288 with 1 Axes>"
      ]
     },
     "metadata": {
      "needs_background": "light"
     },
     "output_type": "display_data"
    },
    {
     "name": "stdout",
     "output_type": "stream",
     "text": [
      "[False, None, True, True, True, None]\n"
     ]
    },
    {
     "data": {
      "image/png": "[encoded data removed]",
      "text/plain": [
       "<Figure size 432x288 with 1 Axes>"
      ]
     },
     "metadata": {
      "needs_background": "light"
     },
     "output_type": "display_data"
    },
    {
     "name": "stdout",
     "output_type": "stream",
     "text": [
      "[False, None, False, True, False, None]\n"
     ]
    },
    {
     "data": {
      "image/png": "[encoded data removed]",
      "text/plain": [
       "<Figure size 432x288 with 1 Axes>"
      ]
     },
     "metadata": {
      "needs_background": "light"
     },
     "output_type": "display_data"
    },
    {
     "name": "stderr",
     "output_type": "stream",
     "text": [
      " 60%|█████████████████████████████████████████████████████████████████████████████████▌                                                      | 3/5 [00:08<00:05,  2.76s/it]"
     ]
    },
    {
     "name": "stdout",
     "output_type": "stream",
     "text": [
      "[False, True, True, True, True, True, None]\n"
     ]
    },
    {
     "data": {
      "image/png": "[encoded data removed]",
      "text/plain": [
       "<Figure size 432x288 with 1 Axes>"
      ]
     },
     "metadata": {
      "needs_background": "light"
     },
     "output_type": "display_data"
    },
    {
     "name": "stdout",
     "output_type": "stream",
     "text": [
      "[True, True, True, False, True, False, None]\n"
     ]
    },
    {
     "data": {
      "image/png": "[encoded data removed]",
      "text/plain": [
       "<Figure size 432x288 with 1 Axes>"
      ]
     },
     "metadata": {
      "needs_background": "light"
     },
     "output_type": "display_data"
    },
    {
     "name": "stdout",
     "output_type": "stream",
     "text": [
      "[True, True, False, False, False, False, None]\n"
     ]
    },
    {
     "data": {
      "image/png": "[encoded data removed]",
      "text/plain": [
       "<Figure size 432x288 with 1 Axes>"
      ]
     },
     "metadata": {
      "needs_background": "light"
     },
     "output_type": "display_data"
    },
    {
     "name": "stdout",
     "output_type": "stream",
     "text": [
      "[True, True, False, False, False, False, None]\n"
     ]
    },
    {
     "data": {
      "image/png": "[encoded data removed]",
      "text/plain": [
       "<Figure size 432x288 with 1 Axes>"
      ]
     },
     "metadata": {
      "needs_background": "light"
     },
     "output_type": "display_data"
    },
    {
     "name": "stderr",
     "output_type": "stream",
     "text": [
      " 80%|████████████████████████████████████████████████████████████████████████████████████████████████████████████▊                           | 4/5 [00:11<00:02,  2.78s/it]"
     ]
    },
    {
     "name": "stdout",
     "output_type": "stream",
     "text": [
      "[False, True, True, True, True, False, True, None]\n"
     ]
    },
    {
     "data": {
      "image/png": "[encoded data removed]",
      "text/plain": [
       "<Figure size 432x288 with 1 Axes>"
      ]
     },
     "metadata": {
      "needs_background": "light"
     },
     "output_type": "display_data"
    },
    {
     "name": "stdout",
     "output_type": "stream",
     "text": [
      "[False, True, False, False, True, True, False, None]\n"
     ]
    },
    {
     "data": {
      "image/png": "[encoded data removed]",
      "text/plain": [
       "<Figure size 432x288 with 1 Axes>"
      ]
     },
     "metadata": {
      "needs_background": "light"
     },
     "output_type": "display_data"
    },
    {
     "name": "stdout",
     "output_type": "stream",
     "text": [
      "[False, True, False, True, False, False, False, None]\n"
     ]
    },
    {
     "data": {
      "image/png": "[encoded data removed]",
      "text/plain": [
       "<Figure size 432x288 with 1 Axes>"
      ]
     },
     "metadata": {
      "needs_background": "light"
     },
     "output_type": "display_data"
    },
    {
     "name": "stdout",
     "output_type": "stream",
     "text": [
      "[False, True, True, True, False, False, True, None]\n"
     ]
    },
    {
     "data": {
      "image/png": "[encoded data removed]",
      "text/plain": [
       "<Figure size 432x288 with 1 Axes>"
      ]
     },
     "metadata": {
      "needs_background": "light"
     },
     "output_type": "display_data"
    },
    {
     "name": "stderr",
     "output_type": "stream",
     "text": [
      "100%|████████████████████████████████████████████████████████████████████████████████████████████████████████████████████████████████████████| 5/5 [00:14<00:00,  2.94s/it]\n"
     ]
    },
    {
     "data": {
      "image/png": "[encoded data removed]",
      "text/plain": [
       "<Figure size 936x432 with 1 Axes>"
      ]
     },
     "metadata": {
      "needs_background": "light"
     },
     "output_type": "display_data"
    },
    {
     "name": "stdout",
     "output_type": "stream",
     "text": [
      "total Base time        -- mean: 0.186644983291626 std: 0.07185439055147866 \n",
      "total rotated time     -- mean: 0.19558300971984863 std: 0.06268724209802558 \n",
      "total SB time          -- mean: 0.2795101642608643 std: 0.08617100342081947 \n",
      "total rotated + SB time-- mean: 0.28365530967712405 std: 0.09720114201639705 \n",
      "z3 Base time           -- mean: 0.0432 std: 0.03945326348985594 \n",
      "z3 rotated time        -- mean: 0.0468 std: 0.04475444112040726 \n",
      "z3 SB time             -- mean: 0.052000000000000005 std: 0.03837186469276676 \n",
      "z3 rotated + SB time   -- mean: 0.027600000000000003 std: 0.014347125147568763\n"
     ]
    }
   ],
   "source": [
    "import time\n",
    "from tqdm import tqdm\n",
    "\n",
    "def smt_benchmark(index, timeout, method, verbose = False, plot = False):\n",
    "    \n",
    "    if method == \"base\":\n",
    "        rotations = False\n",
    "        symmetry_breaking = False\n",
    "    \n",
    "    if method == \"base-sb\":\n",
    "        rotations = False\n",
    "        symmetry_breaking = True\n",
    "    \n",
    "    if method == \"rotations\":\n",
    "        rotations = True\n",
    "        symmetry_breaking = False\n",
    "    \n",
    "    if method == \"rotations-sb\":\n",
    "        rotations = True\n",
    "        symmetry_breaking = True\n",
    "        \n",
    "    folder = \"../../instances/\"\n",
    "    file = f\"ins-{index}.txt\"\n",
    "    url = folder + file\n",
    "    instance = VLSI_Instance(path=url, order_by_width = True)\n",
    "    widths, heights = instance.get_width_height()\n",
    "    \n",
    "    start = time.time()\n",
    "    time_over, px, py, z3_time, rotated = pack_rectangles(timeout, instance.W, instance.H_LB(), instance.H_UB_BL(), instance.n_instances, widths, heights, rotations, symmetry_breaking, verbose)\n",
    "    end = time.time()\n",
    "    \n",
    "    rectangles = instance.rectangles\n",
    "\n",
    "    print(rotated)\n",
    "    \n",
    "    for i in range(instance.n_instances):\n",
    "\n",
    "        rectangles[i].x = px[i]\n",
    "        rectangles[i].y = py[i]\n",
    "        \n",
    "\n",
    "        if rotations and rotated[i]:\n",
    "            width = rectangles[i].width\n",
    "            height = rectangles[i].height\n",
    "            rectangles[i].height = width \n",
    "            rectangles[i].width = height\n",
    "    \n",
    "    instance.H = max([(rect.y + rect.height) for rect in rectangles])\n",
    "    \n",
    "    \n",
    "    path = method\n",
    "    \n",
    "    solve_time = (end - start)\n",
    "    \n",
    "    write_log(path=\"../../out/smt/\" + path + \"/\" + file, instance = instance, \n",
    "              add_text=\"\\n\" + str(solve_time) + \"\\n\" + str(time_over))\n",
    "    \n",
    "    if plot:\n",
    "        plot_rectangles(rectangles, title=file, indexes=True)\n",
    "    \n",
    "    return solve_time, time_over, z3_time\n",
    "\n",
    "def plot_SMT_benchmark(instances_to_solve = 5,timeout = 300, plot=False, verbose=False):\n",
    "    '''\n",
    "    Plotting the barplot with all the SMT solving mechanisms (base, rotated, \n",
    "    base + symmetry breaking, rotated + symmetry breaking)\n",
    "    '''\n",
    "\n",
    "    times_base = []\n",
    "    times_base_rotate = []\n",
    "    times_SB = []\n",
    "    times_SB_rotate = []\n",
    "\n",
    "    z3_times_base = []\n",
    "    z3_times_base_rotate = []\n",
    "    z3_times_SB = []\n",
    "    z3_times_SB_rotate = []\n",
    "\n",
    "    time_overs_base = []\n",
    "    time_overs_base_rotate = []\n",
    "    time_overs_SB = []\n",
    "    time_overs_SB_rotate = []\n",
    "    \n",
    "    for i in tqdm(range(1, instances_to_solve + 1)):\n",
    "        timer, time_over, z3_timer = smt_benchmark(i, timeout, \"base-sb\", verbose = verbose, plot = plot)\n",
    "        times_SB.append(timer)\n",
    "        z3_times_SB.append(z3_timer)\n",
    "\n",
    "        if(time_over):\n",
    "            time_overs_SB.append(i-1)\n",
    "\n",
    "\n",
    "        timer, time_over, z3_timer =  smt_benchmark(i, timeout, \"rotations-sb\", verbose = verbose, plot = plot)\n",
    "        times_SB_rotate.append(timer)\n",
    "        z3_times_SB_rotate.append(z3_timer)\n",
    "\n",
    "        if(time_over):\n",
    "            time_overs_SB_rotate.append(i-1)\n",
    "\n",
    "        url = f\"../instances/ins-{i}.txt\"\n",
    "        timer, time_over, z3_timer = smt_benchmark(i, timeout, \"base\", verbose = verbose, plot = plot)\n",
    "        times_base.append(timer)\n",
    "        z3_times_base.append(z3_timer)\n",
    "\n",
    "        if(time_over):\n",
    "            time_overs_base.append(i-1)\n",
    "\n",
    "        url = f\"../instances/ins-{i}.txt\"\n",
    "        timer, time_over, z3_timer = smt_benchmark(i, timeout, \"rotations\", verbose = verbose, plot = plot)\n",
    "        times_base_rotate.append(timer)\n",
    "        z3_times_base_rotate.append(z3_timer)\n",
    "\n",
    "        if(time_over):\n",
    "            time_overs_base_rotate.append(i-1)\n",
    "\n",
    "    X = range(1, instances_to_solve + 1) \n",
    "    X_axis = np.arange(0,len(times_SB)*2,2)\n",
    "\n",
    "\n",
    "    plt.rcParams[\"figure.figsize\"] = (13,6)\n",
    "    plt.xticks(X_axis, X)\n",
    "\n",
    "\n",
    "\n",
    "    # base z3\n",
    "    barbase = plt.bar(X_axis - 0.6, z3_times_base, 0.4, label = 'Base z3 time')\n",
    "  \n",
    "    # base total\n",
    "    plt.plot(X_axis, times_base, linestyle='--', marker='o', label='Base total time')\n",
    "\n",
    "    for i in time_overs_base:  \n",
    "        barbase[i].set_alpha(0.25)\n",
    "  \n",
    "    # base + rotation z3\n",
    "    barbaserotation = plt.bar(X_axis - 0.2, z3_times_base_rotate, 0.4, label = 'Rotated z3 time')\n",
    "  \n",
    "    # base + rotation total\n",
    "    plt.plot(X_axis, times_base_rotate, linestyle='--', marker='o', label='Rotated total time')\n",
    "\n",
    "    for i in time_overs_base_rotate:\n",
    "        barbaserotation[i].set_alpha(0.25)\n",
    "\n",
    "    # SB\n",
    "    barSB = plt.bar(X_axis + 0.2, z3_times_SB, 0.4, label = 'SB z3 time')\n",
    "  \n",
    "    # SB total\n",
    "    plt.plot(X_axis, times_SB, linestyle='--', marker='o', label='SB total time')\n",
    "\n",
    "    for i in time_overs_SB:  \n",
    "        barSB[i].set_alpha(0.25)\n",
    "        \n",
    "    # SB + rotation\n",
    "    barSBrotation = plt.bar(X_axis + 0.6, z3_times_SB_rotate, 0.4, label = 'Rotated + SB z3 time')\n",
    "\n",
    "    #SB + rotation total\n",
    "    plt.plot(X_axis, times_SB_rotate, linestyle='--', marker='o', label='Rotated + SB total time')\n",
    "\n",
    "    for i in time_overs_SB_rotate:  \n",
    "        barSBrotation[i].set_alpha(0.25)\n",
    "\n",
    "    plt.xlabel(\"VLSI instance files\")\n",
    "    plt.ylabel(\"Time(s)\")\n",
    "    plt.title(\"VLSI SMT Benchmark\")\n",
    "    plt.grid()\n",
    "    plt.axhline(y=timeout, xmin=0, xmax=1, color='r', linestyle='-.', linewidth=2, label=f\"time_limit = {timeout} s\")\n",
    "    #plt.yscale(\"log\")\n",
    "    plt.legend()\n",
    "    plt.savefig('smt_benchmark.png', transparent=False,format=\"png\")\n",
    "    plt.show()\n",
    "\n",
    "    out_text= \"\"\n",
    "\n",
    "    out_text += f\"total Base time        -- mean: {np.mean(times_base)} std: {np.std(times_base)} \\n\"\n",
    "    out_text += f\"total rotated time     -- mean: {np.mean(times_base_rotate)} std: {np.std(times_base_rotate)} \\n\"\n",
    "    out_text += f\"total SB time          -- mean: {np.mean(times_SB)} std: {np.std(times_SB)} \\n\"\n",
    "    out_text += f\"total rotated + SB time-- mean: {np.mean(times_SB_rotate)} std: {np.std(times_SB_rotate)} \\n\"\n",
    "\n",
    "    out_text += f\"z3 Base time           -- mean: {np.mean(z3_times_base)} std: {np.std(z3_times_base)} \\n\"\n",
    "    out_text += f\"z3 rotated time        -- mean: {np.mean(z3_times_base_rotate)} std: {np.std(z3_times_base_rotate)} \\n\"\n",
    "    out_text += f\"z3 SB time             -- mean: {np.mean(z3_times_SB)} std: {np.std(z3_times_SB)} \\n\"\n",
    "    out_text += f\"z3 rotated + SB time   -- mean: {np.mean(z3_times_SB_rotate)} std: {np.std(z3_times_SB_rotate)}\"\n",
    "\n",
    " # write txt log\n",
    "    with  open(\"smt_benchmark_log.txt\",\"w\") as file:\n",
    "        content = out_text\n",
    "        file.writelines(content)\n",
    "        file.close()\n",
    "        \n",
    "    print(out_text)\n",
    "    \n",
    "#timeout is set in seconds\n",
    "plot_SMT_benchmark(instances_to_solve=5, timeout=300, plot=True)\n",
    "#smt_benchmark(index, timeout, method, verbose = False, plot = False)\n"
   ]
  },
  {
   "cell_type": "code",
   "execution_count": 10,
   "id": "8f269613",
   "metadata": {},
   "outputs": [
    {
     "data": {
      "text/plain": [
       "'\\nimport matplotlib.pyplot as plt\\nimport matplotlib.patches as patches\\nimport re\\nimport numpy as np\\n\\n\\nclass Rectangle:\\n  \\'\\'\\'\\n  Implementation of a Rectangle structure\\n\\n  x: the x coordinate of the LEFT BOTTOM corner\\n  y: the y coordinate of the LEFT BOTTOM corner\\n  width: the width of the rectangles\\n  height: the weight of the rectangles \\n  \\'\\'\\'\\n  def __init__ (self, width, height, x=None, y=None):\\n    self.x = x\\n    self.y = y\\n    self.width = width\\n    self.height = height\\n\\ndef plot_rectangles(rectangles, title=\"\", indexes=True):\\n  \\'\\'\\'\\n  This function plots the given input rectangles and computes the placing margins of those\\n  \\n  rectangles: the rectangles to be plotted\\n  title: the title to be assigned to the plot\\n  indexes: True to plot the indexes of the input rectangles, ordered by list index\\n\\'\\'\\'\\n\\n  title = re.split(\"/\", title)\\n  title = title[-1].replace(\".txt\",\"\")\\n\\n  fig, ax = plt.subplots()\\n\\n  max_height = max([rectangles[i].y + rectangles[i].height] for i in range(len(rectangles)))[0]\\n  max_width = max([rectangles[i].x + rectangles[i].width] for i in range(len(rectangles)))[0]\\n\\n  for i in range(0,len(rectangles)):\\n    np.random.seed(i)\\n    rect_draw = patches.Rectangle( (rectangles[i].x, rectangles[i].y) , rectangles[i].width , rectangles[i].height, facecolor = np.random.rand(3,), edgecolor=\\'k\\', label=\"ciao\")\\n    ax.add_patch(rect_draw)\\n\\n    if indexes:\\n      cx = rectangles[i].x + rectangles[i].width/2.0\\n      cy = rectangles[i].y + rectangles[i].height/2.0\\n      ax.annotate(i, (cx, cy), color=\\'k\\', \\n                  fontsize=9, ha=\\'center\\', va=\\'center\\')\\n\\n  ax.set_title(\"Instance: {}, Width: {}, Height: {}\".format(title, max_width, max_height))\\n  ax.spines[\\'top\\'].set_visible(False)\\n  ax.set_xlim((0, max_width))\\n  ax.set_ylim((0, max_height))\\n  #ax.set_aspect(\\'equal\\')\\n  ax.autoscale_view(tight=True)\\n  ax.set_axisbelow(True)\\n  ax.grid()\\n  plt.show()\\n\\n\\n#ploting instance number 36 as an example \\nfor i in range(2,12):\\n    list =[]\\n    instance=i\\n    file_name = \"./../out_test/out-\" + str(instance) + \".txt\"\\n    file_out = open(file_name)\\n    results= file_out.readlines()\\n\\n\\n\\n    for coordinates in results[2:]:\\n        w_h_x_y = coordinates.split()\\n        w_h_x_y = [int(x) for x in w_h_x_y]\\n        w= w_h_x_y[0]\\n        h= w_h_x_y[1]\\n        x= w_h_x_y[2]\\n        y= w_h_x_y[3]\\n        list.append(Rectangle (w,h,x,y))\\n\\n    plot_rectangles(list)\\n    \\n\\n'"
      ]
     },
     "execution_count": 10,
     "metadata": {},
     "output_type": "execute_result"
    }
   ],
   "source": [
    "\"\"\"\n",
    "import matplotlib.pyplot as plt\n",
    "import matplotlib.patches as patches\n",
    "import re\n",
    "import numpy as np\n",
    "\n",
    "\n",
    "class Rectangle:\n",
    "  '''\n",
    "  Implementation of a Rectangle structure\n",
    "\n",
    "  x: the x coordinate of the LEFT BOTTOM corner\n",
    "  y: the y coordinate of the LEFT BOTTOM corner\n",
    "  width: the width of the rectangles\n",
    "  height: the weight of the rectangles \n",
    "  '''\n",
    "  def __init__ (self, width, height, x=None, y=None):\n",
    "    self.x = x\n",
    "    self.y = y\n",
    "    self.width = width\n",
    "    self.height = height\n",
    "\n",
    "def plot_rectangles(rectangles, title=\"\", indexes=True):\n",
    "  '''\n",
    "  This function plots the given input rectangles and computes the placing margins of those\n",
    "  \n",
    "  rectangles: the rectangles to be plotted\n",
    "  title: the title to be assigned to the plot\n",
    "  indexes: True to plot the indexes of the input rectangles, ordered by list index\n",
    "'''\n",
    "\n",
    "  title = re.split(\"/\", title)\n",
    "  title = title[-1].replace(\".txt\",\"\")\n",
    "\n",
    "  fig, ax = plt.subplots()\n",
    "\n",
    "  max_height = max([rectangles[i].y + rectangles[i].height] for i in range(len(rectangles)))[0]\n",
    "  max_width = max([rectangles[i].x + rectangles[i].width] for i in range(len(rectangles)))[0]\n",
    "\n",
    "  for i in range(0,len(rectangles)):\n",
    "    np.random.seed(i)\n",
    "    rect_draw = patches.Rectangle( (rectangles[i].x, rectangles[i].y) , rectangles[i].width , rectangles[i].height, facecolor = np.random.rand(3,), edgecolor='k', label=\"ciao\")\n",
    "    ax.add_patch(rect_draw)\n",
    "\n",
    "    if indexes:\n",
    "      cx = rectangles[i].x + rectangles[i].width/2.0\n",
    "      cy = rectangles[i].y + rectangles[i].height/2.0\n",
    "      ax.annotate(i, (cx, cy), color='k', \n",
    "                  fontsize=9, ha='center', va='center')\n",
    "\n",
    "  ax.set_title(\"Instance: {}, Width: {}, Height: {}\".format(title, max_width, max_height))\n",
    "  ax.spines['top'].set_visible(False)\n",
    "  ax.set_xlim((0, max_width))\n",
    "  ax.set_ylim((0, max_height))\n",
    "  #ax.set_aspect('equal')\n",
    "  ax.autoscale_view(tight=True)\n",
    "  ax.set_axisbelow(True)\n",
    "  ax.grid()\n",
    "  plt.show()\n",
    "\n",
    "\n",
    "#ploting instance number 36 as an example \n",
    "for i in range(2,12):\n",
    "    list =[]\n",
    "    instance=i\n",
    "    file_name = \"./../out_test/out-\" + str(instance) + \".txt\"\n",
    "    file_out = open(file_name)\n",
    "    results= file_out.readlines()\n",
    "\n",
    "\n",
    "\n",
    "    for coordinates in results[2:]:\n",
    "        w_h_x_y = coordinates.split()\n",
    "        w_h_x_y = [int(x) for x in w_h_x_y]\n",
    "        w= w_h_x_y[0]\n",
    "        h= w_h_x_y[1]\n",
    "        x= w_h_x_y[2]\n",
    "        y= w_h_x_y[3]\n",
    "        list.append(Rectangle (w,h,x,y))\n",
    "\n",
    "    plot_rectangles(list)\n",
    "    \n",
    "\n",
    "\"\"\""
   ]
  },
  {
   "cell_type": "code",
   "execution_count": 11,
   "id": "d72a10ae",
   "metadata": {},
   "outputs": [
    {
     "ename": "SyntaxError",
     "evalue": "EOF while scanning triple-quoted string literal (Temp/ipykernel_1248/2389755542.py, line 82)",
     "output_type": "error",
     "traceback": [
      "\u001b[1;36m  File \u001b[1;32m\"C:\\Users\\aleda\\AppData\\Local\\Temp/ipykernel_1248/2389755542.py\"\u001b[1;36m, line \u001b[1;32m82\u001b[0m\n\u001b[1;33m    '''\u001b[0m\n\u001b[1;37m       \n^\u001b[0m\n\u001b[1;31mSyntaxError\u001b[0m\u001b[1;31m:\u001b[0m EOF while scanning triple-quoted string literal\n"
     ]
    }
   ],
   "source": [
    "\n",
    "\"\"\"\n",
    "class Rectangle:\n",
    "  '''\n",
    "  Implementation of a Rectangle structure\n",
    "\n",
    "  x: the x coordinate of the LEFT BOTTOM corner\n",
    "  y: the y coordinate of the LEFT BOTTOM corner\n",
    "  width: the width of the rectangles\n",
    "  height: the weight of the rectangles \n",
    "  '''\n",
    "  def __init__ (self, width, height, x=None, y=None):\n",
    "    self.x = x\n",
    "    self.y = y\n",
    "    self.width = width\n",
    "    self.height = height\n",
    "\n",
    "def plot_rectangles(rectangles, title=\"\", indexes=True):\n",
    "  '''\n",
    "  This function plots the given input rectangles and computes the placing margins of those\n",
    "  \n",
    "  rectangles: the rectangles to be plotted\n",
    "  title: the title to be assigned to the plot\n",
    "  indexes: True to plot the indexes of the input rectangles, ordered by list index\n",
    "\n",
    "\n",
    "  title = re.split(\"/\", title)\n",
    "  title = title[-1].replace(\".txt\",\"\")\n",
    "\n",
    "  fig, ax = plt.subplots()\n",
    "\n",
    "  max_height = max([rectangles[i].y + rectangles[i].height] for i in range(len(rectangles)))[0]\n",
    "  max_width = max([rectangles[i].x + rectangles[i].width] for i in range(len(rectangles)))[0]\n",
    "\n",
    "  for i in range(0,len(rectangles)):\n",
    "    np.random.seed(i)\n",
    "    rect_draw = patches.Rectangle( (rectangles[i].x, rectangles[i].y) , rectangles[i].width , rectangles[i].height, facecolor = np.random.rand(3,), edgecolor='k', label=\"ciao\")\n",
    "    ax.add_patch(rect_draw)\n",
    "\n",
    "    if indexes:\n",
    "      cx = rectangles[i].x + rectangles[i].width/2.0\n",
    "      cy = rectangles[i].y + rectangles[i].height/2.0\n",
    "      ax.annotate(i, (cx, cy), color='k', \n",
    "                  fontsize=9, ha='center', va='center')\n",
    "\n",
    "  ax.set_title(\"Instance: {}, Width: {}, Height: {}\".format(title, max_width, max_height))\n",
    "  ax.spines['top'].set_visible(False)\n",
    "  ax.set_xlim((0, max_width))\n",
    "  ax.set_ylim((0, max_height))\n",
    "  #ax.set_aspect('equal')\n",
    "  ax.autoscale_view(tight=True)\n",
    "  ax.set_axisbelow(True)\n",
    "  ax.grid()\n",
    "  plt.show()\n",
    "\n",
    "\n",
    "\n",
    "list =[]\n",
    "\n",
    "#ploting instance number 36 as an example \n",
    "for i in range(1,12):\n",
    "    instance=i\n",
    "    file_name = \"./../out_2/out-\" + str(instance) + \".txt\"\n",
    "    file_out = open(file_name)\n",
    "    results= file_out.readlines()\n",
    "\n",
    "\n",
    "\n",
    "    for coordinates in results[2:]:\n",
    "        w_h_x_y = coordinates.split()\n",
    "        w_h_x_y = [int(x) for x in w_h_x_y]\n",
    "        w= w_h_x_y[0]\n",
    "        h= w_h_x_y[1]\n",
    "        x= w_h_x_y[2]\n",
    "        y= w_h_x_y[3]\n",
    "        list.append(Rectangle (w,h,x,y))\n",
    "\n",
    "    plot_rectangles(list)\n",
    "    \n",
    "    \n",
    "    \n",
    "    \n",
    "'''"
   ]
  },
  {
   "cell_type": "code",
   "execution_count": null,
   "id": "67947104",
   "metadata": {},
   "outputs": [],
   "source": [
    "\n",
    "\"\"\"  \n",
    "    circuits_y = [Int(f\"y_{i}\") for i in range(13)]\n",
    "    print(circuits_y)\n",
    "    \n",
    "\n",
    "\"\"\""
   ]
  },
  {
   "cell_type": "code",
   "execution_count": null,
   "id": "8b428e09",
   "metadata": {},
   "outputs": [],
   "source": [
    "i"
   ]
  }
 ],
 "metadata": {
  "kernelspec": {
   "display_name": "Python 3 (ipykernel)",
   "language": "python",
   "name": "python3"
  },
  "language_info": {
   "codemirror_mode": {
    "name": "ipython",
    "version": 3
   },
   "file_extension": ".py",
   "mimetype": "text/x-python",
   "name": "python",
   "nbconvert_exporter": "python",
   "pygments_lexer": "ipython3",
   "version": "3.8.12"
  }
 },
 "nbformat": 4,
 "nbformat_minor": 5
}
