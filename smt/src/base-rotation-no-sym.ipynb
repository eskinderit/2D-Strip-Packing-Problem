{
 "cells": [
  {
   "cell_type": "code",
   "execution_count": 2,
   "id": "4da70ab4",
   "metadata": {},
   "outputs": [
    {
     "name": "stdout",
     "output_type": "stream",
     "text": [
      "Requirement already satisfied: z3-solver in c:\\users\\anaconda\\anaconda\\lib\\site-packages (4.10.2.0)\n",
      "Note: you may need to restart the kernel to use updated packages.\n"
     ]
    }
   ],
   "source": [
    "pip install z3-solver"
   ]
  },
  {
   "cell_type": "code",
   "execution_count": 3,
   "id": "e860eda3",
   "metadata": {},
   "outputs": [],
   "source": [
    "from z3 import *\n",
    "import math\n",
    "import time\n",
    "import itertools\n",
    "import io\n",
    "from datetime import datetime\n",
    "import numpy as np\n"
   ]
  },
  {
   "cell_type": "code",
   "execution_count": 20,
   "id": "a4157932",
   "metadata": {},
   "outputs": [
    {
     "name": "stdout",
     "output_type": "stream",
     "text": [
      "Solved\n",
      "0.005\n",
      "Solved\n",
      "0.009\n",
      "Solved\n",
      "0.008\n",
      "Solved\n",
      "0.009\n",
      "Solved\n",
      "0.101\n",
      "Solved\n",
      "0.227\n",
      "Solved\n",
      "0.29\n",
      "Solved\n",
      "0.116\n",
      "Solved\n",
      "0.755\n"
     ]
    }
   ],
   "source": [
    "\n",
    "\n",
    "\n",
    "def pack_rectangles(max_width,number_rectangles, width,height,rotation,symmetry):\n",
    "\n",
    "    #start_time = time.time()\n",
    "   \n",
    "    s = Optimize()\n",
    "    \n",
    "   \n",
    "    \n",
    "    \n",
    "    \n",
    "    circuits_x = [Int(f\"x_{i}\") for i in range(number_rectangles)]\n",
    "    circuits_y = [Int(f\"y_{i}\") for i in range(number_rectangles)]\n",
    "    \n",
    "    \n",
    "    \n",
    "    #s = Solver()\n",
    "    s.set(\"timeout\", 300 * 1000)\n",
    "    #x = [Int('x%s' % i) for i in range(number_rectangles)]\n",
    "    #y = [Int('y%s' % i) for i in range(number_rectangles)]\n",
    "\n",
    "    R = [Bool('R%s' % i) for i in range(number_rectangles)]\n",
    "\n",
    "    \n",
    "    \n",
    "\n",
    "\n",
    "    \n",
    "    \n",
    "    #computing upperbound\n",
    "    xx=circuits_x.copy()\n",
    "    yy=circuits_y.copy()  \n",
    "    #xx=x.copy()\n",
    "    #yy=y.copy()  \n",
    "    W =max_width\n",
    "    upperbound = H_UB (W, dimension_rectangle,xx,yy,False)\n",
    "    \n",
    "    Rectangle_height = Int('Rectangle_height')\n",
    "    s.add(Rectangle_height <= upperbound)\n",
    "    s.add(Rectangle_height >= lowerbound)\n",
    "    \n",
    "    \n",
    "    \n",
    "    dx=width\n",
    "    dy=height\n",
    "    \n",
    "    \n",
    "    # constraint for non overlapping\n",
    "    for i in range(number_rectangles):\n",
    "        for j in range(number_rectangles):\n",
    "            if i != j:\n",
    "                s.add(Or(\n",
    "                         And(circuits_x[i] + height[i] <= circuits_x[j], R[i]),\n",
    "                         And(circuits_x[i] + width[i] <= circuits_x[j], Not(R[i])),\n",
    "                         And(circuits_x[j] + height[j] <=circuits_x[i], R[j]),\n",
    "                         And(circuits_x[j] + width[j] <= circuits_x[i], Not(R[j])),\n",
    "                         And(circuits_y[i] + width[i] <= circuits_y[j], R[i]),\n",
    "                         And(circuits_y[i] + height[i] <= circuits_y[j], Not(R[i])),\n",
    "                         And(circuits_y[j] + width[j] <= circuits_y[i], R[j]),     \n",
    "                         And(circuits_y[j] + height[j] <= circuits_y[i], Not(R[j])),\n",
    "\n",
    "\n",
    "                         ))\n",
    "\n",
    "  \n",
    "    #respecting the maximum boundaries on the x and y axsis \n",
    "    s.add([circuits_x[i] >= 0 for i in range(number_rectangles)])\n",
    "    s.add([Or(Not(R[i]), circuits_x[i] + height[i] - 1 < max_width) for i in range(number_rectangles)])\n",
    "    s.add([Or(R[i], circuits_x[i] + width[i] - 1 < max_width) for i in range(number_rectangles)])\n",
    "    \n",
    "    s.add([circuits_y[i] >= 0 for i in range(number_rectangles)])\n",
    "    s.add([Or(R[i], circuits_y[i] + height[i] - 1 < Rectangle_height) for i in range(number_rectangles)])\n",
    "    s.add([Or(Not(R[i]), circuits_y[i] + width[i] - 1 < Rectangle_height) for i in range(number_rectangles)])\n",
    "\n",
    "    '''\n",
    "\n",
    "      \n",
    "\n",
    "    circuits_w=width\n",
    "    circuits_h=height\n",
    "        \n",
    "        \n",
    "    non_overlap = [Or( \n",
    "                    circuits_x[i] + circuits_w[i] <= circuits_x[j],\n",
    "                    circuits_x[i] >= circuits_x[j] + circuits_w[j],\n",
    "                    circuits_y[i] + circuits_h[i] <= circuits_y[j],\n",
    "                    circuits_y[i] >= circuits_y[j] + circuits_h[j]\n",
    "                    ) for i in range(number_rectangles-1) for j in range(i+1, number_rectangles)]\n",
    "    \n",
    "    in_limits = [And(circuits_x[i] + circuits_w[i] <= max_width,\n",
    "                circuits_y[i] + circuits_h[i] <= Rectangle_height, \n",
    "                circuits_x[i] >= 0, \n",
    "                circuits_y[i] >= 0) for i in range(number_rectangles)]\n",
    "                \n",
    "           \n",
    "    s.add(non_overlap + in_limits)\n",
    "    \n",
    "    \n",
    "    '''\n",
    "    \n",
    "     '''\n",
    "    if symmetry:\n",
    "        # symmetry breaking constraints\n",
    "        for i in range(number_rectangles):\n",
    "            for j in range(number_rectangles):\n",
    "                if i != j:\n",
    "\n",
    "\n",
    "                    #symmetry breaking constraint         \n",
    "                    s.add(Implies(circuits_w[i] + circuits_w[j] > W,And(circuits_x[i]+circuits_w[i]>circuits_x[j],circuits_x[j]+circuits_w[j]>circuits_x[i])))\n",
    "                    s.add(Implies(circuits_h[i] + circuits_h[j] > H,And(circuits_y[i]+circuits_h[i]>circuits_y[j],circuits_y[j]+circuits_h[j]>circuits_y[i])))\n",
    "\n",
    "    '''\n",
    "\n",
    "\n",
    "\n",
    "\n",
    "\n",
    "   \n",
    "   \n",
    "\n",
    "\n",
    "       \n",
    "        \n",
    "        \n",
    "        \n",
    "   # H = lowerbound    \n",
    "        \n",
    "\n",
    "    \n",
    "\n",
    "    \n",
    "    \n",
    "\n",
    "    \n",
    "    \n",
    "    \n",
    "    \n",
    "    \n",
    "    \n",
    "\n",
    "        \n",
    "        \n",
    "        \n",
    "    \n",
    "\n",
    "    \n",
    "    \n",
    "    \n",
    "    \n",
    "    \n",
    "    \n",
    "    \n",
    "    \n",
    "  \n",
    "\n",
    "\n",
    "                \n",
    "    \n",
    "    \n",
    "    \n",
    "    \n",
    "    s.minimize(Rectangle_height)\n",
    "\n",
    "    if s.check() == sat:\n",
    "        print('Solved')\n",
    "        print(s.statistics().time)\n",
    "    else:\n",
    "        print('UNSAT')\n",
    "        return -1,-1,-1,-1,301\n",
    "\n",
    "    return s,circuits_x,circuits_y, R,s.statistics().time\n",
    "    #return s,x,y,R,s.statistics().time\n",
    "\n",
    "\n",
    "def H_UB( W, rectangles,x,y, plot=False):\n",
    "    placer_x = 0\n",
    "    occupied_height= [0]*W\n",
    "    \n",
    "    q=0\n",
    "    for r in rectangles:\n",
    "        occupied_height_copy = occupied_height.copy()\n",
    "        placer_x = np.argmin(occupied_height_copy)\n",
    "        placer_y = min(occupied_height_copy)\n",
    "        while ((placer_x + r[0])>W or any([x > placer_y for x in occupied_height[placer_x:(placer_x + r[0])]])):\n",
    "            occupied_height_copy.remove(placer_y)\n",
    "            placer_x = np.argmin(occupied_height_copy)\n",
    "            placer_y = min(occupied_height_copy)\n",
    "\n",
    "       \n",
    "        x[q] = placer_x\n",
    "        y[q] = placer_y\n",
    "        \n",
    "        for i in range(placer_x, placer_x + r[0]):\n",
    "            occupied_height[i] = placer_y + r[1]\n",
    "        \n",
    "        q=q+1\n",
    "        placer_x += r[0]\n",
    "        \n",
    "    \n",
    "    if plot:\n",
    "        plot_rectangles(rectangles, title = self.name)\n",
    "        \n",
    "    list_a=[]\n",
    "    Z=0\n",
    "    for r in rectangles:\n",
    "        list_a.append(r[1]+y[Z])\n",
    "        Z=Z+1\n",
    "        \n",
    "    return max(list_a)\n",
    "\n",
    "for i in range(1,10):\n",
    "    file_name = \"./../instances/ins-\" + str(i) + \".txt\"\n",
    "    file = open(file_name)\n",
    "    max_width = int(file.readline())\n",
    "    number_rectangles = int(file.readline())\n",
    "\n",
    "    width = []\n",
    "    height = []\n",
    "\n",
    "    for line in file:\n",
    "        width_height = line.split()\n",
    "        width_height = [int(x) for x in width_height]\n",
    "        width.append(width_height[0])\n",
    "        height.append(width_height[1])\n",
    "\n",
    "    dimension_rectangle = []\n",
    "    for j, k in zip(width, height):\n",
    "        dimension_rectangle.append([j, k])\n",
    "\n",
    "    area = sum([b[0] * b[1] for b in dimension_rectangle])\n",
    "    lowerbound = area / max_width\n",
    "    circuits_w,circuits_h=width,height\n",
    "    \n",
    "\n",
    "    start = time.time()\n",
    "    s, px, py, R, time_x = pack_rectangles(max_width,number_rectangles,width,height,True, False)\n",
    "    end = time.time()\n",
    "    \n",
    "    final_time = end - start\n",
    "\n",
    "    if s != -1:\n",
    "        m = s.model()\n",
    "        file_out = \"./../out_test - Copy/out-\" + str(i) + \".txt\"\n",
    "        file_out_time_1 = \"./../time_test - Copy/time-\" + str(i) + \".txt\"\n",
    "\n",
    "        with open(file_out, 'w') as file:\n",
    "\n",
    "            result = sorted([(d, m[d]) for d in m], key=lambda x: str(x[0]))\n",
    "            file.write(str(max_width) + ' ' + str(lowerbound) + \"\\n\")\n",
    "            file.write(str(number_rectangles)+'\\n')\n",
    "            for k in range(1,number_rectangles+1):\n",
    "                if (m.evaluate(R[k-1])):\n",
    "                    file.write(str(height[k-1]) + ' ' + str(width[k-1]) + ' ' + str(m.evaluate(px[k-1])) + ' ' + str(m.evaluate(py[k-1])) + \"\\n\")\n",
    "                else:\n",
    "                     file.write(str(width[k-1]) + ' ' + str(height[k-1]) + ' ' + str(m.evaluate(px[k-1])) + ' ' + str(m.evaluate(py[k-1])) + \"\\n\")\n",
    "\n",
    "        with open(file_out_time_1, 'w') as file:\n",
    "            file.write(str(final_time))\n",
    "             \n",
    "    else:\n",
    "        \n",
    "        file_out_time_1 = \"./../time_test_UN - Copy/time-\" + str(i) + \".txt\"\n",
    "        \n",
    "        with open(file_out_time_1, 'w') as file:\n",
    "            \n",
    "            file.write(str(final_time))\n",
    "    \n",
    "         "
   ]
  },
  {
   "cell_type": "code",
   "execution_count": 21,
   "id": "44676610",
   "metadata": {},
   "outputs": [
    {
     "data": {
      "image/png": "[encoded data removed]",
      "text/plain": [
       "<Figure size 432x288 with 1 Axes>"
      ]
     },
     "metadata": {
      "needs_background": "light"
     },
     "output_type": "display_data"
    },
    {
     "data": {
      "image/png": "[encoded data removed]",
      "text/plain": [
       "<Figure size 432x288 with 1 Axes>"
      ]
     },
     "metadata": {
      "needs_background": "light"
     },
     "output_type": "display_data"
    },
    {
     "data": {
      "image/png": "[encoded data removed]",
      "text/plain": [
       "<Figure size 432x288 with 1 Axes>"
      ]
     },
     "metadata": {
      "needs_background": "light"
     },
     "output_type": "display_data"
    },
    {
     "data": {
      "image/png": "[encoded data removed]",
      "text/plain": [
       "<Figure size 432x288 with 1 Axes>"
      ]
     },
     "metadata": {
      "needs_background": "light"
     },
     "output_type": "display_data"
    },
    {
     "data": {
      "image/png": "[encoded data removed]",
      "text/plain": [
       "<Figure size 432x288 with 1 Axes>"
      ]
     },
     "metadata": {
      "needs_background": "light"
     },
     "output_type": "display_data"
    },
    {
     "data": {
      "image/png": "[encoded data removed]",
      "text/plain": [
       "<Figure size 432x288 with 1 Axes>"
      ]
     },
     "metadata": {
      "needs_background": "light"
     },
     "output_type": "display_data"
    },
    {
     "data": {
      "image/png": "[encoded data removed]",
      "text/plain": [
       "<Figure size 432x288 with 1 Axes>"
      ]
     },
     "metadata": {
      "needs_background": "light"
     },
     "output_type": "display_data"
    },
    {
     "data": {
      "image/png": "[encoded data removed]",
      "text/plain": [
       "<Figure size 432x288 with 1 Axes>"
      ]
     },
     "metadata": {
      "needs_background": "light"
     },
     "output_type": "display_data"
    },
    {
     "data": {
      "image/png": "[encoded data removed]",
      "text/plain": [
       "<Figure size 432x288 with 1 Axes>"
      ]
     },
     "metadata": {
      "needs_background": "light"
     },
     "output_type": "display_data"
    }
   ],
   "source": [
    "import matplotlib.pyplot as plt\n",
    "import matplotlib.patches as patches\n",
    "import re\n",
    "import numpy as np\n",
    "\n",
    "\n",
    "class Rectangle:\n",
    "  '''\n",
    "  Implementation of a Rectangle structure\n",
    "\n",
    "  x: the x coordinate of the LEFT BOTTOM corner\n",
    "  y: the y coordinate of the LEFT BOTTOM corner\n",
    "  width: the width of the rectangles\n",
    "  height: the weight of the rectangles \n",
    "  '''\n",
    "  def __init__ (self, width, height, x=None, y=None):\n",
    "    self.x = x\n",
    "    self.y = y\n",
    "    self.width = width\n",
    "    self.height = height\n",
    "    #self.rotation=rotation\n",
    "\n",
    "def plot_rectangles(rectangles, title=\"\", indexes=True):\n",
    "  '''\n",
    "  This function plots the given input rectangles and computes the placing margins of those\n",
    "  \n",
    "  rectangles: the rectangles to be plotted\n",
    "  title: the title to be assigned to the plot\n",
    "  indexes: True to plot the indexes of the input rectangles, ordered by list index\n",
    "'''\n",
    "\n",
    "  title = re.split(\"/\", title)\n",
    "  title = title[-1].replace(\".txt\",\"\")\n",
    "\n",
    "  fig, ax = plt.subplots()\n",
    "\n",
    "  max_height = max([rectangles[i].y + rectangles[i].height] for i in range(len(rectangles)))[0]\n",
    "  max_width = max([rectangles[i].x + rectangles[i].width] for i in range(len(rectangles)))[0]\n",
    "\n",
    "  for i in range(0,len(rectangles)):\n",
    "    np.random.seed(i)\n",
    "    rect_draw = patches.Rectangle( (rectangles[i].x, rectangles[i].y) , rectangles[i].width , rectangles[i].height, facecolor = np.random.rand(3,), edgecolor='k', label=\"ciao\")\n",
    "    ax.add_patch(rect_draw)\n",
    "\n",
    "    if indexes:\n",
    "      cx = rectangles[i].x + rectangles[i].width/2.0\n",
    "      cy = rectangles[i].y + rectangles[i].height/2.0\n",
    "      ax.annotate(i, (cx, cy), color='k', \n",
    "                  fontsize=9, ha='center', va='center')\n",
    "\n",
    "  ax.set_title(\"Instance: {}, Width: {}, Height: {}\".format(title, max_width, max_height))\n",
    "  ax.spines['top'].set_visible(False)\n",
    "  ax.set_xlim((0, max_width))\n",
    "  ax.set_ylim((0, max_height))\n",
    "  #ax.set_aspect('equal')\n",
    "  ax.autoscale_view(tight=True)\n",
    "  ax.set_axisbelow(True)\n",
    "  ax.grid()\n",
    "  plt.show()\n",
    "\n",
    "\n",
    "\n",
    "#ploting instance number 36 as an example \n",
    "for i in range(1,10):\n",
    "    instance=i\n",
    "    file_name = \"./../out_test - Copy/out-\" + str(instance) + \".txt\"\n",
    "    file_out = open(file_name)\n",
    "    results= file_out.readlines()\n",
    "\n",
    "    list =[]\n",
    "\n",
    "    for coordinates in results[2:]:\n",
    "        w_h_x_y_r = coordinates.split()\n",
    "        w_h_x_y_r = [int(x) for x in w_h_x_y_r]\n",
    "        w= w_h_x_y_r[0]\n",
    "        h= w_h_x_y_r[1]\n",
    "        x= w_h_x_y_r[2]\n",
    "        y= w_h_x_y_r[3]\n",
    "      #  r= w_h_x_y_r[4]\n",
    "        \n",
    "        list.append(Rectangle (w,h,x,y))\n",
    "        \n",
    "    \n",
    "\n",
    "    plot_rectangles(list)"
   ]
  },
  {
   "cell_type": "code",
   "execution_count": 4,
   "id": "2b023969",
   "metadata": {},
   "outputs": [],
   "source": [
    "from os import listdir\n",
    "from os.path import isfile, join\n",
    "onlyfiles_1 = [f for f in listdir(r\"./../time_1_all/\") if isfile(join(\"./../time_1_all/\", f))]\n",
    "onlyfiles_1_r = [f for f in listdir(r\"./../time_1_r_all/\") if isfile(join(\"./../time_1_r_all/\", f))]\n",
    "\n",
    "'''\n",
    "onlyfiles_2 = [f for f in listdir(\"./../time_2_all/\") if isfile(join(\"./../time_2_all/\", f))]\n",
    "onlyfiles_2_r = [f for f in listdir(\"./../time_2_r_all/\") if isfile(join(\"./../time_2_r_all/\", f))]\n",
    "'''\n",
    "\n",
    "times_1_all=[]\n",
    "times_1_r_all=[]\n",
    "times_2_all=[]\n",
    "times_2_r_all=[]\n",
    "\n",
    "for i in range(1,41):\n",
    "    with open(r\"./../time_1_all/time-\" + str(i)+\".txt\") as f:\n",
    "        lines = f.readlines()\n",
    "        times_1_all.append(float(lines[0]))\n",
    "\n",
    "\n",
    "for i in range(1,41):\n",
    "    with open(r\"./../time_1_r_all/time-\" + str(i)+\".txt\") as f:\n",
    "        lines = f.readlines()\n",
    "        times_1_r_all.append(float(lines[0]))\n",
    "\n",
    "\n",
    "\n",
    "for i in range(1,41):\n",
    "    with open(r\"./../time_2_all/time-\" + str(i)+\".txt\") as f:\n",
    "        lines = f.readlines()\n",
    "        times_2_all.append(float(lines[0]))\n",
    "        \n",
    "\n",
    "for i in range(1,41):\n",
    "    with open(r\"./../time_2_r_all/time-\" + str(i)+\".txt\") as f:\n",
    "        lines = f.readlines()\n",
    "        times_2_r_all.append(float(lines[0]))\n",
    "\n",
    "\n"
   ]
  },
  {
   "cell_type": "code",
   "execution_count": 130,
   "id": "39490573",
   "metadata": {},
   "outputs": [
    {
     "data": {
      "image/png": "[encoded data removed]",
      "text/plain": [
       "<Figure size 432x288 with 1 Axes>"
      ]
     },
     "metadata": {
      "needs_background": "light"
     },
     "output_type": "display_data"
    }
   ],
   "source": [
    "import matplotlib.pyplot as plt\n",
    "import numpy as np\n",
    "\n",
    "\n",
    "# make data:\n",
    "\n",
    "#x = [i for i in range(1,len(times)+1)]\n",
    "x=np.arange(len(times_1_all))\n",
    "\n",
    "\n",
    "#N=len(times)\n",
    "\n",
    "# plot\n",
    "fig,ax = plt.subplots()\n",
    "\n",
    "plt.ylabel('Time (s)')\n",
    "plt.xlabel('instance files')\n",
    "#plt.bar(x, times_1, width=0.7, edgecolor=\"white\", linewidth=0.7)\n",
    "#plt.bar(x, times_1_r, width=0.5, edgecolor=\"red\", linewidth=0.7)\n",
    "color_1=[]\n",
    "color_1_r=[]\n",
    "for i,j in zip( times_1_all,times_1_r_all):\n",
    "    if i<=300:\n",
    "        color_1.append('#0000FF')\n",
    "    else:\n",
    "        color_1.append('#ADD8E6')\n",
    "    if j<300:\n",
    "        color_1_r.append('#FF8C00')\n",
    "    else:\n",
    "        color_1_r.append('#FFD580')\n",
    "\n",
    "plt.bar(x -0.2 , times_1_all, 0.4, color= color_1 ,label = 'Basic Time')\n",
    "plt.bar(x +0.2, times_1_r_all, 0.4,color= color_1_r , label = 'Rotated Time')\n",
    "plt.yscale(\"log\")\n",
    "ax.grid(zorder=0)\n",
    "plt.title(\"VLSI SMT Benchmark\")\n",
    "plt.legend(loc='best')\n",
    "plt.savefig('../graphs/basic.png')\n",
    "plt.show()\n"
   ]
  },
  {
   "cell_type": "code",
   "execution_count": 131,
   "id": "fc26bf8d",
   "metadata": {},
   "outputs": [
    {
     "data": {
      "image/png": "[encoded data removed]",
      "text/plain": [
       "<Figure size 432x288 with 1 Axes>"
      ]
     },
     "metadata": {
      "needs_background": "light"
     },
     "output_type": "display_data"
    }
   ],
   "source": [
    "\n",
    "\n",
    "# make data:\n",
    "\n",
    "#x = [i for i in range(1,len(times)+1)]\n",
    "x=np.arange(len(times_2_all))\n",
    "\n",
    "\n",
    "\n",
    "# plot\n",
    "fig,ax = plt.subplots()\n",
    "\n",
    "plt.ylabel('Time (s)')\n",
    "plt.xlabel('instance files')\n",
    "#plt.bar(x, times_1, width=0.7, edgecolor=\"white\", linewidth=0.7)\n",
    "#plt.bar(x, times_1_r, width=0.5, edgecolor=\"red\", linewidth=0.7)\n",
    "color_2=[]\n",
    "color_2_r=[]\n",
    "for i,j in zip( times_2_all,times_2_r_all):\n",
    "    if i<=300:\n",
    "        color_2.append('#0000FF')\n",
    "    else:\n",
    "        color_2.append('#ADD8E6')\n",
    "    if j<=300:\n",
    "        color_2_r.append('#FF8C00')\n",
    "    else:\n",
    "        color_2_r.append('#FFD580')\n",
    "\n",
    "plt.bar(x -0.2 , times_2_all, 0.4, color= color_2 ,label = 'SB Time')\n",
    "plt.bar(x +0.2, times_2_r_all, 0.4,color= color_2_r , label = 'SB Rotated Time')\n",
    "plt.yscale(\"log\")\n",
    "ax.grid(zorder=0)\n",
    "plt.title(\"VLSI SMT Benchmark\")\n",
    "plt.legend(loc='best')\n",
    "plt.savefig('../graphs/symmetry.png')\n",
    "plt.show()"
   ]
  },
  {
   "cell_type": "code",
   "execution_count": 106,
   "id": "0b0526e2",
   "metadata": {},
   "outputs": [
    {
     "data": {
      "image/png": "[encoded data removed]",
      "text/plain": [
       "<Figure size 432x288 with 1 Axes>"
      ]
     },
     "metadata": {
      "needs_background": "light"
     },
     "output_type": "display_data"
    }
   ],
   "source": [
    "color_2=[]\n",
    "color_2_r=[]\n",
    "for i,j in zip( times_2_all,times_2_r_all):\n",
    "    if i<=300:\n",
    "        color_2.append('#A020F0')\n",
    "    else:\n",
    "        color_2.append('#CF9FFF')\n",
    "    if j<=300:\n",
    "        color_2_r.append('#00FF00')\n",
    "    else:\n",
    "        color_2_r.append('#90EE90')\n",
    "plt.bar(x -0.6 , times_2_all, 0.4, color= color_2 ,label = 'SB Time')\n",
    "plt.bar(x +0.6, times_2_r_all, 0.4,color= color_2_r , label = 'SB Rotated Time')\n",
    "plt.bar(x -0.2 , times_1_all, 0.4, color= color_1 ,label = 'Basic Time')\n",
    "plt.bar(x +0.2, times_1_r_all, 0.4,color= color_1_r , label = 'Rotated Time')\n",
    "plt.yscale(\"log\")\n",
    "plt.legend(loc='best')\n",
    "plt.show()"
   ]
  },
  {
   "cell_type": "code",
   "execution_count": null,
   "id": "58c25ae7",
   "metadata": {},
   "outputs": [],
   "source": [
    "def plot_SMT_benchmark(instances_to_solve: int = 40, solver_name: str = \"gurobi\", timeout: int = 300, plot=False):\n",
    "    \"\"\"\n",
    "    Produces the barplot with all the LP solving mechanisms (base, rotations,\n",
    "    base + symmetry breaking, rotations + symmetry breaking). Also produces a\n",
    "    file with initial values + final positioning coordinates and total height.\n",
    "    In the same folder an output with the resulting time statistics is produced.\n",
    "\n",
    "    \"\"\"\n",
    "\n",
    "    times_base = []\n",
    "    times_base_rotate = []\n",
    "    times_SB = []\n",
    "    times_SB_rotate = []\n",
    "\n",
    "    time_overs_base = []\n",
    "    time_overs_base_rotate = []\n",
    "    time_overs_SB = []\n",
    "    time_overs_SB_rotate = []\n",
    "\n",
    "    for j in tqdm(range(1, instances_to_solve + 1)):\n",
    "\n",
    "        # base\n",
    "        time, time_over = #FIXME smt_benchmark(j, timeout=timeout, method=\"base\", solver_name=solver_name, plot=plot)\n",
    "        times_base.append(time)\n",
    "\n",
    "        if time_over:\n",
    "            time_overs_base.append(j - 1)\n",
    "\n",
    "        # base + SB\n",
    "        time, time_over = #FIXME smt_benchmark(j, timeout=timeout, method=\"base-sb\", solver_name=solver_name, plot=plot)\n",
    "        times_SB.append(time)\n",
    "\n",
    "        if time_over:\n",
    "            time_overs_SB.append(j - 1)\n",
    "\n",
    "        # rotated\n",
    "        time, time_over = #FIXME smt_benchmark(j, timeout=timeout, method=\"rotations\", solver_name=solver_name, plot=plot)\n",
    "        times_base_rotate.append(time)\n",
    "\n",
    "        if time_over:\n",
    "            time_overs_base_rotate.append(j - 1)\n",
    "\n",
    "        # rotated + SB\n",
    "        time, time_over = #FIXME smt_benchmark(j, timeout=timeout, method=\"rotations-sb\", solver_name=solver_name, plot=plot)\n",
    "        times_SB_rotate.append(time)\n",
    "\n",
    "        if time_over:\n",
    "            time_overs_SB_rotate.append(j - 1)\n",
    "\n",
    "    X = range(1, instances_to_solve + 1)\n",
    "    X_axis = np.arange(0, len(times_SB) * 2, 2)\n",
    "\n",
    "    plt.rcParams[\"figure.figsize\"] = (13, 6)\n",
    "    plt.xticks(X_axis, X)\n",
    "\n",
    "    # base\n",
    "    barbase = plt.bar(X_axis - 0.6, times_base, 0.4, label='Base time')\n",
    "\n",
    "    for j in time_overs_base:\n",
    "        barbase[j].set_alpha(0.25)\n",
    "\n",
    "    # base + rotation\n",
    "    barbaserotation = plt.bar(X_axis - 0.2, times_base_rotate, 0.4, label='Rotated time')\n",
    "\n",
    "    for j in time_overs_base_rotate:\n",
    "        barbaserotation[j].set_alpha(0.25)\n",
    "\n",
    "    # SB\n",
    "    barSB = plt.bar(X_axis + 0.2, times_SB, 0.4, label='Base SB time')\n",
    "\n",
    "    for j in time_overs_SB:\n",
    "        barSB[j].set_alpha(0.25)\n",
    "\n",
    "    # SB + rotation\n",
    "    barSBrotation = plt.bar(X_axis + 0.6, times_SB_rotate, 0.4, label='Rotated + SB time')\n",
    "\n",
    "    for j in time_overs_SB_rotate:\n",
    "        barSBrotation[j].set_alpha(0.25)\n",
    "\n",
    "    plt.xlabel(\"VLSI_Instance files\")\n",
    "    plt.ylabel(\"Time(s)\")\n",
    "    plt.title(\"VLSI SMT Benchmark\" + \"solver: \" + solver_name)\n",
    "    plt.grid()\n",
    "    plt.axhline(y=timeout, xmin=0, xmax=1, color='r', linestyle='-.', linewidth=2, label=f\"time_limit = {timeout} s\")\n",
    "    #plt.yscale(\"log\")\n",
    "    plt.legend()\n",
    "    plt.savefig(f'lp_benchmark_{solver_name}.png', transparent=False, format=\"png\")\n",
    "    plt.show()\n",
    "\n",
    "    out_text = f\"total Base time        -- mean: {np.mean(times_base)} std: {np.std(times_base)}\\n\"\n",
    "    out_text += f\"total rotated time     -- mean: {np.mean(times_base_rotate)} std: {np.std(times_base_rotate)}\\n\"\n",
    "    out_text += f\"total SB time          -- mean: {np.mean(times_SB)} std: {np.std(times_SB)}\\n\"\n",
    "    out_text += f\"total rotated + SB time-- mean: {np.mean(times_SB_rotate)} std: {np.std(times_SB_rotate)}\\n\"\n",
    "\n",
    "    print(out_text)\n",
    "    # write txt log\n",
    "    with open(f\"smt_benchmark_log_{solver_name}.txt\", \"w\") as file:\n",
    "        content = out_text\n",
    "        file.writelines(content)\n",
    "        file.close()\n"
   ]
  },
  {
   "cell_type": "code",
   "execution_count": 43,
   "id": "8f269613",
   "metadata": {},
   "outputs": [
    {
     "data": {
      "image/png": "[encoded data removed]",
      "text/plain": [
       "<Figure size 432x288 with 1 Axes>"
      ]
     },
     "metadata": {
      "needs_background": "light"
     },
     "output_type": "display_data"
    },
    {
     "data": {
      "image/png": "[encoded data removed]",
      "text/plain": [
       "<Figure size 432x288 with 1 Axes>"
      ]
     },
     "metadata": {
      "needs_background": "light"
     },
     "output_type": "display_data"
    },
    {
     "data": {
      "image/png": "[encoded data removed]",
      "text/plain": [
       "<Figure size 432x288 with 1 Axes>"
      ]
     },
     "metadata": {
      "needs_background": "light"
     },
     "output_type": "display_data"
    },
    {
     "data": {
      "image/png": "[encoded data removed]",
      "text/plain": [
       "<Figure size 432x288 with 1 Axes>"
      ]
     },
     "metadata": {
      "needs_background": "light"
     },
     "output_type": "display_data"
    },
    {
     "ename": "ValueError",
     "evalue": "invalid literal for int() with base 10: 'True'",
     "output_type": "error",
     "traceback": [
      "\u001b[1;31m---------------------------------------------------------------------------\u001b[0m",
      "\u001b[1;31mValueError\u001b[0m                                Traceback (most recent call last)",
      "\u001b[1;32m<ipython-input-43-6b0bde8b09d1>\u001b[0m in \u001b[0;36m<module>\u001b[1;34m\u001b[0m\n\u001b[0;32m     72\u001b[0m     \u001b[1;32mfor\u001b[0m \u001b[0mcoordinates\u001b[0m \u001b[1;32min\u001b[0m \u001b[0mresults\u001b[0m\u001b[1;33m[\u001b[0m\u001b[1;36m2\u001b[0m\u001b[1;33m:\u001b[0m\u001b[1;33m]\u001b[0m\u001b[1;33m:\u001b[0m\u001b[1;33m\u001b[0m\u001b[1;33m\u001b[0m\u001b[0m\n\u001b[0;32m     73\u001b[0m         \u001b[0mw_h_x_y_r\u001b[0m \u001b[1;33m=\u001b[0m \u001b[0mcoordinates\u001b[0m\u001b[1;33m.\u001b[0m\u001b[0msplit\u001b[0m\u001b[1;33m(\u001b[0m\u001b[1;33m)\u001b[0m\u001b[1;33m\u001b[0m\u001b[1;33m\u001b[0m\u001b[0m\n\u001b[1;32m---> 74\u001b[1;33m         \u001b[0mw_h_x_y_r\u001b[0m \u001b[1;33m=\u001b[0m \u001b[1;33m[\u001b[0m\u001b[0mint\u001b[0m\u001b[1;33m(\u001b[0m\u001b[0mx\u001b[0m\u001b[1;33m)\u001b[0m \u001b[1;32mfor\u001b[0m \u001b[0mx\u001b[0m \u001b[1;32min\u001b[0m \u001b[0mw_h_x_y_r\u001b[0m\u001b[1;33m]\u001b[0m\u001b[1;33m\u001b[0m\u001b[1;33m\u001b[0m\u001b[0m\n\u001b[0m\u001b[0;32m     75\u001b[0m         \u001b[0mw\u001b[0m\u001b[1;33m=\u001b[0m \u001b[0mw_h_x_y_r\u001b[0m\u001b[1;33m[\u001b[0m\u001b[1;36m0\u001b[0m\u001b[1;33m]\u001b[0m\u001b[1;33m\u001b[0m\u001b[1;33m\u001b[0m\u001b[0m\n\u001b[0;32m     76\u001b[0m         \u001b[0mh\u001b[0m\u001b[1;33m=\u001b[0m \u001b[0mw_h_x_y_r\u001b[0m\u001b[1;33m[\u001b[0m\u001b[1;36m1\u001b[0m\u001b[1;33m]\u001b[0m\u001b[1;33m\u001b[0m\u001b[1;33m\u001b[0m\u001b[0m\n",
      "\u001b[1;32m<ipython-input-43-6b0bde8b09d1>\u001b[0m in \u001b[0;36m<listcomp>\u001b[1;34m(.0)\u001b[0m\n\u001b[0;32m     72\u001b[0m     \u001b[1;32mfor\u001b[0m \u001b[0mcoordinates\u001b[0m \u001b[1;32min\u001b[0m \u001b[0mresults\u001b[0m\u001b[1;33m[\u001b[0m\u001b[1;36m2\u001b[0m\u001b[1;33m:\u001b[0m\u001b[1;33m]\u001b[0m\u001b[1;33m:\u001b[0m\u001b[1;33m\u001b[0m\u001b[1;33m\u001b[0m\u001b[0m\n\u001b[0;32m     73\u001b[0m         \u001b[0mw_h_x_y_r\u001b[0m \u001b[1;33m=\u001b[0m \u001b[0mcoordinates\u001b[0m\u001b[1;33m.\u001b[0m\u001b[0msplit\u001b[0m\u001b[1;33m(\u001b[0m\u001b[1;33m)\u001b[0m\u001b[1;33m\u001b[0m\u001b[1;33m\u001b[0m\u001b[0m\n\u001b[1;32m---> 74\u001b[1;33m         \u001b[0mw_h_x_y_r\u001b[0m \u001b[1;33m=\u001b[0m \u001b[1;33m[\u001b[0m\u001b[0mint\u001b[0m\u001b[1;33m(\u001b[0m\u001b[0mx\u001b[0m\u001b[1;33m)\u001b[0m \u001b[1;32mfor\u001b[0m \u001b[0mx\u001b[0m \u001b[1;32min\u001b[0m \u001b[0mw_h_x_y_r\u001b[0m\u001b[1;33m]\u001b[0m\u001b[1;33m\u001b[0m\u001b[1;33m\u001b[0m\u001b[0m\n\u001b[0m\u001b[0;32m     75\u001b[0m         \u001b[0mw\u001b[0m\u001b[1;33m=\u001b[0m \u001b[0mw_h_x_y_r\u001b[0m\u001b[1;33m[\u001b[0m\u001b[1;36m0\u001b[0m\u001b[1;33m]\u001b[0m\u001b[1;33m\u001b[0m\u001b[1;33m\u001b[0m\u001b[0m\n\u001b[0;32m     76\u001b[0m         \u001b[0mh\u001b[0m\u001b[1;33m=\u001b[0m \u001b[0mw_h_x_y_r\u001b[0m\u001b[1;33m[\u001b[0m\u001b[1;36m1\u001b[0m\u001b[1;33m]\u001b[0m\u001b[1;33m\u001b[0m\u001b[1;33m\u001b[0m\u001b[0m\n",
      "\u001b[1;31mValueError\u001b[0m: invalid literal for int() with base 10: 'True'"
     ]
    }
   ],
   "source": [
    "import matplotlib.pyplot as plt\n",
    "import matplotlib.patches as patches\n",
    "import re\n",
    "import numpy as np\n",
    "\n",
    "\n",
    "class Rectangle:\n",
    "  '''\n",
    "  Implementation of a Rectangle structure\n",
    "\n",
    "  x: the x coordinate of the LEFT BOTTOM corner\n",
    "  y: the y coordinate of the LEFT BOTTOM corner\n",
    "  width: the width of the rectangles\n",
    "  height: the weight of the rectangles \n",
    "  '''\n",
    "  def __init__ (self, width, height, x=None, y=None):\n",
    "    self.x = x\n",
    "    self.y = y\n",
    "    self.width = width\n",
    "    self.height = height\n",
    "    #self.rotation=rotation\n",
    "\n",
    "def plot_rectangles(rectangles, title=\"\", indexes=True):\n",
    "  '''\n",
    "  This function plots the given input rectangles and computes the placing margins of those\n",
    "  \n",
    "  rectangles: the rectangles to be plotted\n",
    "  title: the title to be assigned to the plot\n",
    "  indexes: True to plot the indexes of the input rectangles, ordered by list index\n",
    "'''\n",
    "\n",
    "  title = re.split(\"/\", title)\n",
    "  title = title[-1].replace(\".txt\",\"\")\n",
    "\n",
    "  fig, ax = plt.subplots()\n",
    "\n",
    "  max_height = max([rectangles[i].y + rectangles[i].height] for i in range(len(rectangles)))[0]\n",
    "  max_width = max([rectangles[i].x + rectangles[i].width] for i in range(len(rectangles)))[0]\n",
    "\n",
    "  for i in range(0,len(rectangles)):\n",
    "    np.random.seed(i)\n",
    "    rect_draw = patches.Rectangle( (rectangles[i].x, rectangles[i].y) , rectangles[i].width , rectangles[i].height, facecolor = np.random.rand(3,), edgecolor='k', label=\"ciao\")\n",
    "    ax.add_patch(rect_draw)\n",
    "\n",
    "    if indexes:\n",
    "      cx = rectangles[i].x + rectangles[i].width/2.0\n",
    "      cy = rectangles[i].y + rectangles[i].height/2.0\n",
    "      ax.annotate(i, (cx, cy), color='k', \n",
    "                  fontsize=9, ha='center', va='center')\n",
    "\n",
    "  ax.set_title(\"Instance: {}, Width: {}, Height: {}\".format(title, max_width, max_height))\n",
    "  ax.spines['top'].set_visible(False)\n",
    "  ax.set_xlim((0, max_width))\n",
    "  ax.set_ylim((0, max_height))\n",
    "  #ax.set_aspect('equal')\n",
    "  ax.autoscale_view(tight=True)\n",
    "  ax.set_axisbelow(True)\n",
    "  ax.grid()\n",
    "  plt.show()\n",
    "\n",
    "\n",
    "\n",
    "#ploting instance number 36 as an example \n",
    "for i in range(1,10):\n",
    "    instance=i\n",
    "    file_name = \"./../out_test/out-\" + str(instance) + \".txt\"\n",
    "    file_out = open(file_name)\n",
    "    results= file_out.readlines()\n",
    "\n",
    "    list =[]\n",
    "\n",
    "    for coordinates in results[2:]:\n",
    "        w_h_x_y_r = coordinates.split()\n",
    "        w_h_x_y_r = [int(x) for x in w_h_x_y_r]\n",
    "        w= w_h_x_y_r[0]\n",
    "        h= w_h_x_y_r[1]\n",
    "        x= w_h_x_y_r[2]\n",
    "        y= w_h_x_y_r[3]\n",
    "      #  r= w_h_x_y_r[4]\n",
    "        \n",
    "        list.append(Rectangle (w,h,x,y))\n",
    "        \n",
    "    \n",
    "\n",
    "    plot_rectangles(list)"
   ]
  },
  {
   "cell_type": "code",
   "execution_count": null,
   "id": "67947104",
   "metadata": {},
   "outputs": [],
   "source": [
    "    circuits_y = [Int(f\"y_{i}\") for i in range(13)]\n",
    "    print(circuits_y)"
   ]
  },
  {
   "cell_type": "code",
   "execution_count": null,
   "id": "8b428e09",
   "metadata": {},
   "outputs": [],
   "source": [
    "i"
   ]
  }
 ],
 "metadata": {
  "kernelspec": {
   "display_name": "Python 3",
   "language": "python",
   "name": "python3"
  },
  "language_info": {
   "codemirror_mode": {
    "name": "ipython",
    "version": 3
   },
   "file_extension": ".py",
   "mimetype": "text/x-python",
   "name": "python",
   "nbconvert_exporter": "python",
   "pygments_lexer": "ipython3",
   "version": "3.8.8"
  }
 },
 "nbformat": 4,
 "nbformat_minor": 5
}
